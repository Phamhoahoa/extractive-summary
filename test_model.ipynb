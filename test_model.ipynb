{
 "cells": [
  {
   "cell_type": "code",
   "execution_count": 18,
   "metadata": {},
   "outputs": [],
   "source": [
    "import create_matrix\n",
    "import pandas as pd \n",
    "from nltk import sent_tokenize, word_tokenize, PorterStemmer\n",
    "import matplotlib.pyplot as plt\n",
    "import re\n",
    "import string\n",
    "from functools import reduce\n",
    "import math\n",
    "from math import log\n",
    "# from sklearn.feature_extraction.text import TfidfVectorizer\n",
    "from sklearn import cluster\n",
    "from sklearn.cluster import KMeans\n",
    "from nltk import sent_tokenize, word_tokenize, PorterStemmer\n",
    "from nltk.corpus import stopwords   \n",
    "from nltk.cluster import KMeansClusterer\n",
    "import numpy as np \n",
    "from nltk.cluster.util import cosine_distance\n",
    "import nltk\n",
    "import numpy as np\n",
    "from operator import itemgetter\n",
    "import featureExtraction, preprocessing, settings, readfile\n",
    "import os\n",
    "import glob\n",
    "import errno\n",
    "import sys\n",
    "\n",
    "import json"
   ]
  },
  {
   "cell_type": "code",
   "execution_count": 19,
   "metadata": {},
   "outputs": [
    {
     "name": "stdout",
     "output_type": "stream",
     "text": [
      "12\n"
     ]
    }
   ],
   "source": [
    " _, doc = readfile.FileReader(\"/home/pham.thi.hoa/PycharmProjects/base.vn/textrank/Plaintext/CT/CT01.txt\").read_file()\n",
    "        # print(title)\n",
    "sentences = preprocessing.NLP(doc).sentence_segmentation()\n",
    "total_documents = len(sentences)\n",
    "print(total_documents, end=\"\\n\")\n",
    "freq_matrix = create_matrix.Create_frequency_matrix(sentences)\n",
    "tf_matrix = create_matrix.Create_tf_matrix(freq_matrix)\n",
    "count_doc_per_words = create_matrix.Create_documents_per_words(freq_matrix)\n",
    "# Calculate IDF and generate a matrix\n",
    "idf_matrix = create_matrix.Create_idf_matrix(freq_matrix, count_doc_per_words, total_documents)\n",
    "# print(idf_matrix)\n",
    "\n",
    "# 6 Calculate TF-IDF and generate a matrix\n",
    "tf_idf_matrix = create_matrix.Create_tf_idf_matrix(tf_matrix, idf_matrix)\n",
    "# print(tf_idf_matrix)\n",
    "\n",
    "\n",
    "sentence_scores = create_matrix.Score_sentences(tf_idf_matrix)"
   ]
  },
  {
   "cell_type": "code",
   "execution_count": 20,
   "metadata": {
    "scrolled": true
   },
   "outputs": [
    {
     "name": "stdout",
     "output_type": "stream",
     "text": [
      "---------------------------------------------------------------------------\n",
      "(12, 240)\n"
     ]
    },
    {
     "data": {
      "image/png": "[encoded data removed]",
      "text/plain": [
       "<Figure size 432x432 with 1 Axes>"
      ]
     },
     "metadata": {
      "needs_background": "light"
     },
     "output_type": "display_data"
    }
   ],
   "source": [
    "df = pd.DataFrame(tf_idf_matrix)\n",
    "df = df.T\n",
    "df.replace(np.nan,0,inplace=True)\n",
    "x = df.values\n",
    "\n",
    "print(\"---------------------------------------------------------------------------\")\n",
    "x.shape\n",
    "print(x.shape)\n",
    "sse = []\n",
    "list_k = list(range(1, 13))\n",
    "\n",
    "\n",
    "for k in list_k:\n",
    "    km = KMeans(n_clusters=k)\n",
    "    km.fit(x)\n",
    "    sse.append(km.inertia_)\n",
    "    format(k)\n",
    "    format(km.inertia_)\n",
    "    # print(\"Number of cluster2: {}\".format(k), end=\" \")\n",
    "    # print(\"Value of SSE/Distortion: {}\".format(km.inertia_))\n",
    "\n",
    "# Plot sse against k\n",
    "plt.figure(figsize=(6, 6))\n",
    "plt.plot(list_k, sse, '-o')\n",
    "plt.xlabel(r'Number of clusters *k*')\n",
    "plt.ylabel('Sum of squared distance')\n",
    "plt.show()  \n",
    "# Apply clustering on the data using sklearn KMeans"
   ]
  },
  {
   "cell_type": "code",
   "execution_count": 21,
   "metadata": {},
   "outputs": [],
   "source": [
    "from IPython.display import display, HTML"
   ]
  },
  {
   "cell_type": "code",
   "execution_count": 22,
   "metadata": {},
   "outputs": [
    {
     "data": {
      "text/html": [
       "<div>\n",
       "<style scoped>\n",
       "    .dataframe tbody tr th:only-of-type {\n",
       "        vertical-align: middle;\n",
       "    }\n",
       "\n",
       "    .dataframe tbody tr th {\n",
       "        vertical-align: top;\n",
       "    }\n",
       "\n",
       "    .dataframe thead th {\n",
       "        text-align: right;\n",
       "    }\n",
       "</style>\n",
       "<table border=\"1\" class=\"dataframe\">\n",
       "  <thead>\n",
       "    <tr style=\"text-align: right;\">\n",
       "      <th></th>\n",
       "      <th>blank_columns</th>\n",
       "      <th>total</th>\n",
       "      <th>not_null</th>\n",
       "      <th>cluster</th>\n",
       "    </tr>\n",
       "  </thead>\n",
       "  <tbody>\n",
       "    <tr>\n",
       "      <th>Bên cạnh đó, tỉ</th>\n",
       "      <td>187</td>\n",
       "      <td>1</td>\n",
       "      <td>-186</td>\n",
       "      <td>4</td>\n",
       "    </tr>\n",
       "    <tr>\n",
       "      <th>Hiện nay tỉnh đ</th>\n",
       "      <td>196</td>\n",
       "      <td>1</td>\n",
       "      <td>-195</td>\n",
       "      <td>3</td>\n",
       "    </tr>\n",
       "    <tr>\n",
       "      <th>Ngoài ra khi đư</th>\n",
       "      <td>196</td>\n",
       "      <td>1</td>\n",
       "      <td>-195</td>\n",
       "      <td>4</td>\n",
       "    </tr>\n",
       "    <tr>\n",
       "      <th>Ngày 11/4, Đại</th>\n",
       "      <td>203</td>\n",
       "      <td>1</td>\n",
       "      <td>-202</td>\n",
       "      <td>4</td>\n",
       "    </tr>\n",
       "    <tr>\n",
       "      <th>Phía Nga luôn ư</th>\n",
       "      <td>179</td>\n",
       "      <td>1</td>\n",
       "      <td>-178</td>\n",
       "      <td>4</td>\n",
       "    </tr>\n",
       "    <tr>\n",
       "      <th>Theo quy hoạch</th>\n",
       "      <td>204</td>\n",
       "      <td>1</td>\n",
       "      <td>-203</td>\n",
       "      <td>5</td>\n",
       "    </tr>\n",
       "    <tr>\n",
       "      <th>Tại buổi làm vi</th>\n",
       "      <td>206</td>\n",
       "      <td>1</td>\n",
       "      <td>-205</td>\n",
       "      <td>6</td>\n",
       "    </tr>\n",
       "    <tr>\n",
       "      <th>Tỉnh Ninh Thuận</th>\n",
       "      <td>171</td>\n",
       "      <td>1</td>\n",
       "      <td>-170</td>\n",
       "      <td>0</td>\n",
       "    </tr>\n",
       "    <tr>\n",
       "      <th>Tỉnh cũng đã ho</th>\n",
       "      <td>184</td>\n",
       "      <td>1</td>\n",
       "      <td>-183</td>\n",
       "      <td>3</td>\n",
       "    </tr>\n",
       "    <tr>\n",
       "      <th>Tỉnh cũng đã th</th>\n",
       "      <td>214</td>\n",
       "      <td>1</td>\n",
       "      <td>-213</td>\n",
       "      <td>2</td>\n",
       "    </tr>\n",
       "    <tr>\n",
       "      <th>Đại sứ Andrey K</th>\n",
       "      <td>217</td>\n",
       "      <td>1</td>\n",
       "      <td>-216</td>\n",
       "      <td>4</td>\n",
       "    </tr>\n",
       "    <tr>\n",
       "      <th>﻿Nga ưu tiên ca</th>\n",
       "      <td>228</td>\n",
       "      <td>1</td>\n",
       "      <td>-227</td>\n",
       "      <td>1</td>\n",
       "    </tr>\n",
       "  </tbody>\n",
       "</table>\n",
       "</div>"
      ],
      "text/plain": [
       "                 blank_columns  total  not_null  cluster\n",
       "Bên cạnh đó, tỉ            187      1      -186        4\n",
       "Hiện nay tỉnh đ            196      1      -195        3\n",
       "Ngoài ra khi đư            196      1      -195        4\n",
       "Ngày 11/4, Đại             203      1      -202        4\n",
       "Phía Nga luôn ư            179      1      -178        4\n",
       "Theo quy hoạch             204      1      -203        5\n",
       "Tại buổi làm vi            206      1      -205        6\n",
       "Tỉnh Ninh Thuận            171      1      -170        0\n",
       "Tỉnh cũng đã ho            184      1      -183        3\n",
       "Tỉnh cũng đã th            214      1      -213        2\n",
       "Đại sứ Andrey K            217      1      -216        4\n",
       "﻿Nga ưu tiên ca            228      1      -227        1"
      ]
     },
     "metadata": {},
     "output_type": "display_data"
    },
    {
     "name": "stdout",
     "output_type": "stream",
     "text": [
      "___________________________________________\n",
      "         Occurrence  Not_null_rows  frequency\n",
      "cluster                                      \n",
      "0              -170              1  -1.042945\n",
      "1              -227              1  -1.392638\n",
      "2              -213              1  -1.306748\n",
      "3              -378              2  -1.159509\n",
      "4              -977              5  -1.198773\n",
      "5              -203              1  -1.245399\n",
      "6              -205              1  -1.257669\n"
     ]
    },
    {
     "data": {
      "text/plain": [
       "dict_keys(['Tỉnh Ninh Thuận'])"
      ]
     },
     "metadata": {},
     "output_type": "display_data"
    }
   ],
   "source": [
    "kmeans = cluster.KMeans(n_clusters=7, init='k-means++',\n",
    "                            max_iter=100, n_init=1, verbose=0, random_state=3425)\n",
    "kmeans.fit(x)\n",
    "\n",
    "labels = kmeans.labels_\n",
    "centroids = kmeans.cluster_centers_\n",
    "labels\n",
    "centroids.shape        \n",
    "lbl = pd.DataFrame(labels, columns=[\"label\"])\n",
    "final_df = df\n",
    "final_df['cluster'] = lbl.values\n",
    "test = (final_df == 0).astype(int).sum(axis=1)\n",
    "test_df = pd.DataFrame(test)\n",
    "\n",
    "test_df['total'] = 1\n",
    "test_df['not_null'] = test_df['total'] - test_df[0]\n",
    "\n",
    "test_df['cluster'] = final_df['cluster']\n",
    "\n",
    "test_df.rename(columns={0:\"blank_columns\"}, inplace=True)\n",
    "display(test_df)\n",
    "print('___________________________________________')\n",
    "# display(final_df)\n",
    "x = pd.DataFrame(test_df.groupby('cluster')['not_null'].sum())\n",
    "x.rename(columns={\"not_null\":\"Occurrence\"}, inplace=True)\n",
    "# print(x)\n",
    "\n",
    "y = pd.DataFrame(test_df.groupby('cluster')['not_null'].count())\n",
    "y.rename(columns={\"not_null\":\"Not_null_rows\"}, inplace=True)\n",
    "# print(y)\n",
    "\n",
    "frequency_df_temp = pd.concat([x , y], axis=1)\n",
    "\n",
    "frequency_df_temp[\"frequency\"] = frequency_df_temp[\"Occurrence\"]/(frequency_df_temp[\"Not_null_rows\"]*163    )\n",
    "print(frequency_df_temp)\n",
    "\n",
    "frequency_df_temp[frequency_df_temp[\"frequency\"] == max(frequency_df_temp[\"frequency\"])].index[0]\n",
    "df1 = final_df[final_df.cluster == frequency_df_temp[frequency_df_temp[\"frequency\"] == max(frequency_df_temp[\"frequency\"])].index[0]]\n",
    "final_dict = df1.set_index(df1.T.columns).T.to_dict('list')\n",
    "display(final_dict.keys())\n",
    "# print(sentence_scores)\n",
    "\n",
    "l = {}\n",
    "for i in final_dict.keys():\n",
    "    for j in sentence_scores.keys():\n",
    "        if i == j:\n",
    "            l[i] = 1\n",
    "# print(l)\n"
   ]
  },
  {
   "cell_type": "code",
   "execution_count": null,
   "metadata": {},
   "outputs": [],
   "source": []
  },
  {
   "cell_type": "code",
   "execution_count": null,
   "metadata": {},
   "outputs": [],
   "source": []
  }
 ],
 "metadata": {
  "kernelspec": {
   "display_name": "Python 3",
   "language": "python",
   "name": "python3"
  },
  "language_info": {
   "codemirror_mode": {
    "name": "ipython",
    "version": 3
   },
   "file_extension": ".py",
   "mimetype": "text/x-python",
   "name": "python",
   "nbconvert_exporter": "python",
   "pygments_lexer": "ipython3",
   "version": "3.6.9"
  }
 },
 "nbformat": 4,
 "nbformat_minor": 4
}
